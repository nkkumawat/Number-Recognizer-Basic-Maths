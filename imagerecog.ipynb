{
 "cells": [
  {
   "cell_type": "code",
   "execution_count": 14,
   "metadata": {},
   "outputs": [
    {
     "data": {
      "image/png": "[encoded data removed]",
      "text/plain": [
       "<matplotlib.figure.Figure at 0x7f00b3278fd0>"
      ]
     },
     "metadata": {},
     "output_type": "display_data"
    }
   ],
   "source": [
    "import PIL\n",
    "from PIL import Image\n",
    "import numpy as np\n",
    "import matplotlib.pyplot as plt\n",
    "\n",
    "i  = Image.open('./images/dot.png')\n",
    "image_arr = np.asarray(i)\n",
    "# print(image_arr)\n",
    "\n",
    "plt.imshow(image_arr)\n",
    "plt.show()"
   ]
  },
  {
   "cell_type": "code",
   "execution_count": 15,
   "metadata": {},
   "outputs": [
    {
     "data": {
      "image/png": "[encoded data removed]",
      "text/plain": [
       "<matplotlib.figure.Figure at 0x7f00b32155f8>"
      ]
     },
     "metadata": {},
     "output_type": "display_data"
    }
   ],
   "source": [
    "import PIL\n",
    "from PIL import Image\n",
    "import numpy as np\n",
    "import matplotlib.pyplot as plt\n",
    "\n",
    "i  = Image.open('./images/numbers/y0.4.png')\n",
    "image_arr = np.asarray(i)\n",
    "# print(image_arr)\n",
    "\n",
    "plt.imshow(image_arr)\n",
    "plt.show()"
   ]
  },
  {
   "cell_type": "code",
   "execution_count": 25,
   "metadata": {},
   "outputs": [
    {
     "name": "stderr",
     "output_type": "stream",
     "text": [
      "/home/sonu/anaconda3/lib/python3.6/site-packages/ipykernel_launcher.py:13: RuntimeWarning: overflow encountered in ubyte_scalars\n",
      "  del sys.path[0]\n",
      "/home/sonu/anaconda3/lib/python3.6/site-packages/ipykernel_launcher.py:18: RuntimeWarning: overflow encountered in ubyte_scalars\n"
     ]
    },
    {
     "data": {
      "image/png": "[encoded data removed]",
      "text/plain": [
       "<matplotlib.figure.Figure at 0x7f00b2f525f8>"
      ]
     },
     "metadata": {},
     "output_type": "display_data"
    }
   ],
   "source": [
    "import PIL\n",
    "from PIL import Image\n",
    "import numpy as np\n",
    "import matplotlib.pyplot as plt\n",
    "import time\n",
    "from functools import reduce\n",
    "\n",
    "def threshold(image_arr): #  for balck and white\n",
    "    balance_arr = []\n",
    "    new_arr = image_arr\n",
    "    for each_row in image_arr:\n",
    "        for each_pix in each_row:\n",
    "            avg_num = reduce( lambda x , y : x + y , each_pix[:3])/len(each_pix[:3])\n",
    "            balance_arr.append(avg_num)\n",
    "    balance = reduce( lambda x , y : x + y , balance_arr)/len(balance_arr)\n",
    "    for each_row in new_arr:\n",
    "        for each_pix in each_row:\n",
    "            if reduce( lambda x , y : x + y , each_pix[:3])/len(each_pix[:3]) > balance:\n",
    "                each_pix[0] = 255\n",
    "                each_pix[1] = 255\n",
    "                each_pix[2] = 255\n",
    "                each_pix[3] = 255\n",
    "            else:\n",
    "                each_pix[0] = 0\n",
    "                each_pix[1] = 0\n",
    "                each_pix[2] = 0\n",
    "                each_pix[3] = 255\n",
    "    return new_arr   \n",
    "            \n",
    "i0 = Image.open('images/numbers/0.1.png')\n",
    "image_arr0 = np.array(i0);\n",
    "\n",
    "i1 = Image.open('images/numbers/y0.4.png')\n",
    "image_arr1 = np.array(i1);\n",
    "\n",
    "i2 = Image.open('images/numbers/y0.5.png')\n",
    "image_arr2 = np.array(i2);\n",
    "\n",
    "i3 = Image.open('images/numbers/0.1.png')\n",
    "image_arr3 = np.array(i3);\n",
    "\n",
    "threshold(image_arr1)\n",
    "threshold(image_arr2)\n",
    "\n",
    "fig = plt.figure()\n",
    "ax0 = plt.subplot2grid((8, 6) , (0 , 0) , rowspan=4 , colspan = 3)\n",
    "ax1 = plt.subplot2grid((8, 6) , (4 , 0) , rowspan=4 , colspan = 3)\n",
    "ax2 = plt.subplot2grid((8, 6) , (0 , 3) , rowspan=4 , colspan = 3)\n",
    "ax3 = plt.subplot2grid((8, 6) , (4 , 3) , rowspan=4 , colspan = 3)\n",
    "\n",
    "ax0.imshow(image_arr0)\n",
    "ax1.imshow(image_arr1)\n",
    "ax2.imshow(image_arr2)\n",
    "ax3.imshow(image_arr3)\n",
    "\n",
    "plt.show()"
   ]
  },
  {
   "cell_type": "code",
   "execution_count": 22,
   "metadata": {},
   "outputs": [
    {
     "data": {
      "image/png": "[encoded data removed]",
      "text/plain": [
       "<matplotlib.figure.Figure at 0x7fd2ae6cedd8>"
      ]
     },
     "metadata": {},
     "output_type": "display_data"
    }
   ],
   "source": [
    "import PIL\n",
    "from PIL import Image\n",
    "import numpy as np\n",
    "import matplotlib.pyplot as plt\n",
    "import time\n",
    "from functools import reduce\n",
    "from collections import Counter\n",
    "\n",
    "def create_examples():\n",
    "    number_array = open('numA.txt', 'a')\n",
    "    num_available = range(0,10)\n",
    "    ver_available = range(1,10)\n",
    "    \n",
    "    for each_num in num_available:\n",
    "        for each_ver in ver_available:\n",
    "#             print(str(each_num) + str(each_ver))\n",
    "            image_paths = 'images/numbers/' +str(each_num) + '.' + str(each_ver) + '.png'\n",
    "            example_image = Image.open(image_paths)\n",
    "            example_image_arr = np.array(example_image)\n",
    "            example_image_arr1 = str(example_image_arr.tolist())\n",
    "            line_write = str(each_num) + '::'+example_image_arr1 + '\\n'\n",
    "            number_array.write(line_write)\n",
    "            \n",
    "# create_examples()\n",
    "\n",
    "def threshold(image_arr): #  for balck and white\n",
    "    balance_arr = []\n",
    "    new_arr = image_arr\n",
    "    for each_row in image_arr:\n",
    "        for each_pix in each_row:\n",
    "            avg_num = reduce( lambda x , y : x + y , each_pix[:3])/len(each_pix[:3])\n",
    "            balance_arr.append(avg_num)\n",
    "    balance = reduce( lambda x , y : x + y , balance_arr)/len(balance_arr)\n",
    "    for each_row in new_arr:\n",
    "        for each_pix in each_row:\n",
    "            if reduce( lambda x , y : x + y , each_pix[:3])/len(each_pix[:3]) > balance:\n",
    "                each_pix[0] = 255\n",
    "                each_pix[1] = 255\n",
    "                each_pix[2] = 255\n",
    "                each_pix[3] = 255\n",
    "            else:\n",
    "                each_pix[0] = 0\n",
    "                each_pix[1] = 0\n",
    "                each_pix[2] = 0\n",
    "                each_pix[3] = 255     \n",
    "    return new_arr\n",
    "\n",
    "def check_number(file_path):\n",
    "    matched_array = []\n",
    "    load_examples = open(\"numA.txt\" , \"r\").read()\n",
    "    load_examples = load_examples.split('\\n')\n",
    "    \n",
    "    i = Image.open(file_path)\n",
    "    image_arr = np.array(i)\n",
    "    image_arr1 = image_arr.tolist();\n",
    "    \n",
    "    inQuestion = str(image_arr1)\n",
    "    for each_example in load_examples:\n",
    "        if len(each_example) > 3:\n",
    "            split_ex = each_example.split('::')\n",
    "            curr_num = split_ex[0]\n",
    "            curr_arr = split_ex[1]\n",
    "            each_pix_ex = curr_arr.split('],')\n",
    "            each_pix_inq = inQuestion.split('],')\n",
    "            x = 0\n",
    "            while x < len(each_pix_ex):\n",
    "                if each_pix_ex[x] == each_pix_inq[x]:\n",
    "                    matched_array.append(int(curr_num))\n",
    "                x+=1\n",
    "            \n",
    "#         print(matched_array)\n",
    "    x = Counter(matched_array)\n",
    "#         print(x)  \n",
    "\n",
    "    graphX = []\n",
    "    graphY = []\n",
    "\n",
    "    for each_thing in x:\n",
    "        graphX.append(each_thing)\n",
    "        graphY.append(x[each_thing])\n",
    "\n",
    "\n",
    "    fig = plt.figure()\n",
    "    ax0 = plt.subplot2grid((4, 4) , (0 , 0) , rowspan=1 , colspan = 4)\n",
    "    ax1 = plt.subplot2grid((4, 4) , (1 , 0) , rowspan=3 , colspan = 4)\n",
    "\n",
    "    ax0.imshow(image_arr)\n",
    "    ax1.bar(graphX ,graphY , align = 'center')\n",
    "    plt.ylim(400)\n",
    "    \n",
    "    x_loc = plt.MaxNLocator(12)\n",
    "    ax1.xaxis.set_major_locator(x_loc)\n",
    "    plt.show()\n",
    "\n",
    "        \n",
    "check_number('images/numbers/7.4.png')\n"
   ]
  },
  {
   "cell_type": "code",
   "execution_count": null,
   "metadata": {
    "collapsed": true
   },
   "outputs": [],
   "source": []
  }
 ],
 "metadata": {
  "kernelspec": {
   "display_name": "Python 3",
   "language": "python",
   "name": "python3"
  },
  "language_info": {
   "codemirror_mode": {
    "name": "ipython",
    "version": 3
   },
   "file_extension": ".py",
   "mimetype": "text/x-python",
   "name": "python",
   "nbconvert_exporter": "python",
   "pygments_lexer": "ipython3",
   "version": "3.6.3"
  }
 },
 "nbformat": 4,
 "nbformat_minor": 2
}
